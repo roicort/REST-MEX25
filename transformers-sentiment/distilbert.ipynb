{
 "cells": [
  {
   "cell_type": "code",
   "execution_count": 1,
   "metadata": {},
   "outputs": [
    {
     "name": "stdout",
     "output_type": "stream",
     "text": [
      "Usando MPS: mps\n",
      "Test correcto: mps\n"
     ]
    }
   ],
   "source": [
    "from transformers import AutoTokenizer, AutoModelForSequenceClassification\n",
    "import pandas as pd\n",
    "import torch\n",
    "from tqdm import tqdm\n",
    "from sklearn.model_selection import train_test_split\n",
    "from sklearn.metrics import classification_report\n",
    "\n",
    "from transformers import AutoTokenizer, AutoModelForSequenceClassification\n",
    "from torch.utils.data import DataLoader\n",
    "\n",
    "import sys\n",
    "sys.path.append('../')\n",
    "\n",
    "from utils.metrics import RestMexMetrics\n",
    "from utils.config import setConfig\n",
    "\n",
    "device = setConfig()\n",
    "metrics = RestMexMetrics()"
   ]
  },
  {
   "cell_type": "code",
   "execution_count": 2,
   "metadata": {},
   "outputs": [],
   "source": [
    "df = pd.read_csv(r'../data/train/train.csv')\n",
    "audf = pd.read_csv(r'../data/augmented/train.csv')\n",
    "data = pd.concat([df, audf], ignore_index=True)\n",
    "\n",
    "data['Title'] = data['Title'].astype(str)\n",
    "data['Review'] = data['Review'].astype(str)\n",
    "data['Town'] = data['Town'].astype(str)\n",
    "data['Region'] = data['Region'].astype(str)\n",
    "data['Type'] = data['Type'].astype(str)\n",
    "data['Polarity'] = data['Polarity'].astype(int)"
   ]
  },
  {
   "cell_type": "code",
   "execution_count": 3,
   "metadata": {},
   "outputs": [
    {
     "name": "stdout",
     "output_type": "stream",
     "text": [
      "Train shape: (170040, 6)\n",
      "Test shape: (42511, 6)\n"
     ]
    }
   ],
   "source": [
    "\n",
    "train, test = train_test_split(data, test_size=0.20, random_state=42)\n",
    "\n",
    "print(f\"Train shape: {train.shape}\")\n",
    "print(f\"Test shape: {test.shape}\")\n",
    "\n",
    "X_test = '<title>' + test['Title'] + '<title> <review>' + test['Review'] + '<review>'\n",
    "y_test = test['Polarity']"
   ]
  },
  {
   "cell_type": "code",
   "execution_count": null,
   "metadata": {},
   "outputs": [],
   "source": [
    "from utils.run import predict_sentiment"
   ]
  },
  {
   "cell_type": "markdown",
   "metadata": {},
   "source": [
    "## Usando Tabularisai"
   ]
  },
  {
   "cell_type": "code",
   "execution_count": 5,
   "metadata": {},
   "outputs": [],
   "source": [
    "model_name = \"tabularisai/multilingual-sentiment-analysis\"\n",
    "tokenizer = AutoTokenizer.from_pretrained(model_name)\n",
    "model = AutoModelForSequenceClassification.from_pretrained(model_name)"
   ]
  },
  {
   "cell_type": "code",
   "execution_count": null,
   "metadata": {},
   "outputs": [
    {
     "name": "stderr",
     "output_type": "stream",
     "text": [
      "Predicting sentiment: 100%|██████████| 2657/2657 [07:39<00:00,  5.78it/s]\n"
     ]
    }
   ],
   "source": [
    "model = model.to(device)\n",
    "y_test_pred = predict_sentiment(X_test.to_numpy(), model, tokenizer, device.type, batch_size=16)"
   ]
  },
  {
   "cell_type": "code",
   "execution_count": 8,
   "metadata": {},
   "outputs": [
    {
     "data": {
      "text/plain": [
       "0.4341778822022997"
      ]
     },
     "execution_count": 8,
     "metadata": {},
     "output_type": "execute_result"
    }
   ],
   "source": [
    "report = classification_report(y_test, y_test_pred, target_names=test['Polarity'].astype(int).unique(), output_dict=True)\n",
    "report = pd.DataFrame(report)\n",
    "f1 = report[y_test.unique()].loc['f1-score'].to_dict()\n",
    "\n",
    "ResP_k = metrics.TypeScore(f1)\n",
    "\n",
    "ResP_k"
   ]
  },
  {
   "cell_type": "markdown",
   "metadata": {},
   "source": [
    "## Ahora usando Finetuning"
   ]
  },
  {
   "cell_type": "code",
   "execution_count": 5,
   "metadata": {},
   "outputs": [
    {
     "name": "stdout",
     "output_type": "stream",
     "text": [
      "config.json             tokenizer.json          vocab.txt\n",
      "model.safetensors       tokenizer_config.json\n",
      "special_tokens_map.json training_args.bin\n"
     ]
    }
   ],
   "source": [
    "!ls ../models/tabularisai-distilbert/"
   ]
  },
  {
   "cell_type": "code",
   "execution_count": 4,
   "metadata": {},
   "outputs": [],
   "source": [
    "path = '../models/tabularisai-distilbert/'\n",
    "model = AutoModelForSequenceClassification.from_pretrained(path) \n",
    "tokenizer = AutoTokenizer.from_pretrained(path)"
   ]
  },
  {
   "cell_type": "code",
   "execution_count": null,
   "metadata": {},
   "outputs": [
    {
     "name": "stderr",
     "output_type": "stream",
     "text": [
      "Predicting sentiment: 100%|██████████| 2657/2657 [07:56<00:00,  5.58it/s]\n"
     ]
    }
   ],
   "source": [
    "model = model.to(device)\n",
    "y_test_pred = predict_sentiment(X_test.to_numpy(), model, tokenizer, device.type, batch_size=16)"
   ]
  },
  {
   "cell_type": "code",
   "execution_count": 11,
   "metadata": {},
   "outputs": [
    {
     "name": "stdout",
     "output_type": "stream",
     "text": [
      "Accuracy: 0.7761\n",
      "F1 Score: 0.7656\n"
     ]
    }
   ],
   "source": [
    "# Accuracy\n",
    "\n",
    "from sklearn.metrics import accuracy_score, f1_score\n",
    "accuracy = accuracy_score(y_test, y_test_pred)\n",
    "print(f\"Accuracy: {accuracy:.4f}\")\n",
    "f1 = f1_score(y_test, y_test_pred, average='weighted')\n",
    "print(f\"F1 Score: {f1:.4f}\")"
   ]
  },
  {
   "cell_type": "code",
   "execution_count": 12,
   "metadata": {},
   "outputs": [
    {
     "data": {
      "text/plain": [
       "0.6346492447794829"
      ]
     },
     "execution_count": 12,
     "metadata": {},
     "output_type": "execute_result"
    }
   ],
   "source": [
    "report = classification_report(y_test, y_test_pred, target_names=test['Polarity'].astype(int).unique(), output_dict=True)\n",
    "report = pd.DataFrame(report)\n",
    "f1 = report[y_test.unique()].loc['f1-score'].to_dict()\n",
    "\n",
    "ResP_k = metrics.TypeScore(f1)\n",
    "\n",
    "ResP_k"
   ]
  }
 ],
 "metadata": {
  "kernelspec": {
   "display_name": "NLP",
   "language": "python",
   "name": "python3"
  },
  "language_info": {
   "codemirror_mode": {
    "name": "ipython",
    "version": 3
   },
   "file_extension": ".py",
   "mimetype": "text/x-python",
   "name": "python",
   "nbconvert_exporter": "python",
   "pygments_lexer": "ipython3",
   "version": "3.12.9"
  }
 },
 "nbformat": 4,
 "nbformat_minor": 2
}
